{
 "cells": [
  {
   "cell_type": "code",
   "execution_count": 1,
   "metadata": {},
   "outputs": [],
   "source": [
    "#importing pandas libaries and sklearn datasets\n",
    "import pandas as pd\n",
    "from sklearn import datasets\n",
    "import numpy as np"
   ]
  },
  {
   "cell_type": "code",
   "execution_count": 2,
   "metadata": {},
   "outputs": [
    {
     "name": "stdout",
     "output_type": "stream",
     "text": [
      "<class 'sklearn.utils.Bunch'>\n",
      "\n",
      "\n",
      "dict_keys(['data', 'target', 'feature_names', 'DESCR', 'filename'])\n",
      "\n",
      "\n",
      "(506, 13)\n",
      "\n",
      "\n",
      "['CRIM' 'ZN' 'INDUS' 'CHAS' 'NOX' 'RM' 'AGE' 'DIS' 'RAD' 'TAX' 'PTRATIO'\n",
      " 'B' 'LSTAT']\n"
     ]
    }
   ],
   "source": [
    "#Loading and inspecting the dataset\n",
    "boston = datasets.load_boston()\n",
    "print(type(boston))\n",
    "print('\\n')\n",
    "print(boston.keys())\n",
    "print('\\n')\n",
    "print(boston.data.shape)\n",
    "print('\\n')\n",
    "print(boston.feature_names)"
   ]
  },
  {
   "cell_type": "code",
   "execution_count": 16,
   "metadata": {},
   "outputs": [
    {
     "name": "stdout",
     "output_type": "stream",
     "text": [
      "11401.600000000002\n",
      "22.532806324110677\n",
      "5.0\n",
      "50.0\n",
      "45.0\n"
     ]
    }
   ],
   "source": [
    "#Exploratory Data anlaysis of price \n",
    "\n",
    "price_sum = np.sum(boston.target)\n",
    "price_average = np.average(boston.target)\n",
    "price_minimum_value = np.min(boston.target)\n",
    "price_maximum_value = np.max(boston.target)\n",
    "\n",
    "def data_range(x, axis=0):\n",
    "    return np.max(x, axis=axis) - np.min(x, axis=axis)\n",
    "\n",
    "price_range = data_range(boston.target)\n",
    "\n",
    "print(price_sum)\n",
    "print(price_average)\n",
    "print(price_minimum_value)\n",
    "print(price_maximum_value)\n",
    "print(price_range)"
   ]
  },
  {
   "cell_type": "code",
   "execution_count": null,
   "metadata": {},
   "outputs": [],
   "source": []
  }
 ],
 "metadata": {
  "kernelspec": {
   "display_name": "Python 3",
   "language": "python",
   "name": "python3"
  },
  "language_info": {
   "codemirror_mode": {
    "name": "ipython",
    "version": 3
   },
   "file_extension": ".py",
   "mimetype": "text/x-python",
   "name": "python",
   "nbconvert_exporter": "python",
   "pygments_lexer": "ipython3",
   "version": "3.7.5"
  }
 },
 "nbformat": 4,
 "nbformat_minor": 4
}
